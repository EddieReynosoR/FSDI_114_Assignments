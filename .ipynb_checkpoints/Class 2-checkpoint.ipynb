{
 "cells": [
  {
   "cell_type": "code",
   "execution_count": 6,
   "id": "c9d6cc2d",
   "metadata": {},
   "outputs": [],
   "source": [
    "# Introductory implementation of a stack:\n",
    "# This implementation uses \"built-in\" data structures and methods to achieve its goal.\n",
    "# class Stack:\n",
    "#     def __init__(self):\n",
    "#         self.items =[]\n",
    "    \n",
    "#     def push(self, item):\n",
    "#         self.items.append(item)\n",
    "        \n",
    "#     def pop(self):\n",
    "#         return self.items.pop()\n",
    "    \n",
    "    \n",
    "#     # these are nice to have:\n",
    "#     def is_empty(self):\n",
    "#         return self.item == []\n",
    "    \n",
    "#     def peek(self):\n",
    "#         return self.items(len(self.items)-1)\n",
    "    \n",
    "#     def size(self):\n",
    "#         return len(self.items)"
   ]
  },
  {
   "cell_type": "markdown",
   "id": "82919e66",
   "metadata": {},
   "source": [
    "## Problem 2\n",
    "### Invert a string using our stack class\n",
    "\n",
    "Using the *stack* class above, a function called \"reverse_str\" that thakes a string as a parameter and returns it in inverted order.\n",
    "\n",
    "```\n",
    "Examples:\n",
    "reverse_str(\"Eduardo\") == \"odraudE\"\n",
    "reverse_str(\"cars\") == \"srac\"\n",
    "reverse_str(\"house\") == \"esuoh\"\n",
    "\n",
    "```\n"
   ]
  },
  {
   "cell_type": "code",
   "execution_count": 5,
   "id": "519b3850",
   "metadata": {},
   "outputs": [],
   "source": [
    "# define function reverse_check: parameter -> (word)\n",
    "#     reverseWord = \" \" empty\n",
    "#     for each letter in the parameter -> word \n",
    "#          push letter into the stack\n",
    "#   \n",
    "#     foreach letter in stack:\n",
    "#          reverseWord = reverseWord + letter.pop()\n",
    "\n",
    "#     return reverseWord"
   ]
  },
  {
   "cell_type": "code",
   "execution_count": 12,
   "id": "1faac6ec",
   "metadata": {},
   "outputs": [
    {
     "name": "stdout",
     "output_type": "stream",
     "text": [
      "odraudE\n"
     ]
    }
   ],
   "source": [
    "def reverse_check(word):\n",
    "    stack = Stack()\n",
    "    reverseWord = \"\"\n",
    "    for letter in word:\n",
    "        stack.push(letter)\n",
    "        \n",
    "    for letter in word:\n",
    "        reverseWord = reverseWord + stack.pop()\n",
    "        \n",
    "    return reverseWord\n",
    "\n",
    "print(reverse_check(\"Eduardo\"))"
   ]
  },
  {
   "cell_type": "code",
   "execution_count": 10,
   "id": "c80cc7b6",
   "metadata": {},
   "outputs": [
    {
     "name": "stdout",
     "output_type": "stream",
     "text": [
      " dlroW olleH\n"
     ]
    }
   ],
   "source": [
    "def reverse_check(word):\n",
    "    stack = Stack()\n",
    "    reverseWord = \"\"\n",
    "    for letter in word:\n",
    "        stack.push(letter)\n",
    "        \n",
    "    for letter in word:\n",
    "        reverseWord = reverseWord + stack.pop()\n",
    "        \n",
    "    return reverseWord\n",
    "\n",
    "print(reverse_check(\"Hello World\"))"
   ]
  },
  {
   "cell_type": "code",
   "execution_count": 13,
   "id": "2f6923a4",
   "metadata": {},
   "outputs": [
    {
     "name": "stdout",
     "output_type": "stream",
     "text": [
      "odnuM aloH\n"
     ]
    }
   ],
   "source": [
    "print(reverse_check(\"Hola Mundo\"))"
   ]
  },
  {
   "cell_type": "code",
   "execution_count": 14,
   "id": "d74294a1",
   "metadata": {},
   "outputs": [],
   "source": [
    "# Introductory implementation of a queue:\n",
    "# This implementation uses \"built-in\" data structures and methods to achieve its goal.\n",
    "\n",
    "class Queue:\n",
    "    def __init__(self):\n",
    "        self.items = []\n",
    "        \n",
    "    # these are essential:\n",
    "    def enqueue(self, item):\n",
    "        self.items.insert(0, item)\n",
    "        \n",
    "    def dequeue(self):\n",
    "        return self.items.pop()\n",
    "    \n",
    "    # these are nice to have\n",
    "    def is_empty(self):\n",
    "        return self.item == []\n",
    "    \n",
    "    def size(self):\n",
    "        return len(self.items)"
   ]
  },
  {
   "cell_type": "markdown",
   "id": "f0e27ae1",
   "metadata": {},
   "source": [
    "In order to build our data structures from scratch, let's touch base on some basics:\n",
    "\n",
    "### Pass by Value vs Pass by Reference"
   ]
  },
  {
   "cell_type": "code",
   "execution_count": 15,
   "id": "0aa022cc",
   "metadata": {},
   "outputs": [
    {
     "name": "stdout",
     "output_type": "stream",
     "text": [
      "5\n"
     ]
    }
   ],
   "source": [
    "# Example of pass by value\n",
    "\n",
    "x = 5\n",
    "y = x\n",
    "\n",
    "x = x + 1\n",
    "\n",
    "print(y)"
   ]
  },
  {
   "cell_type": "code",
   "execution_count": 16,
   "id": "3401a42f",
   "metadata": {},
   "outputs": [
    {
     "name": "stdout",
     "output_type": "stream",
     "text": [
      "[1, 2, 3, 4, 5, 6]\n"
     ]
    }
   ],
   "source": [
    "# Example of pass by reference\n",
    "\n",
    "x = [1, 2, 3, 4, 5]\n",
    "\n",
    "y = x\n",
    "\n",
    "x.append(6)\n",
    "\n",
    "print(y)"
   ]
  },
  {
   "cell_type": "code",
   "execution_count": 7,
   "id": "67f11093",
   "metadata": {},
   "outputs": [],
   "source": [
    "# Implementation of a stack class from scratch\n",
    "\n",
    "class Node:\n",
    "    def __init__(self, data):\n",
    "        self.data = data\n",
    "        self.above = None"
   ]
  },
  {
   "cell_type": "code",
   "execution_count": 18,
   "id": "7b133f83",
   "metadata": {},
   "outputs": [
    {
     "name": "stdout",
     "output_type": "stream",
     "text": [
      "1\n",
      "2\n",
      "3\n"
     ]
    }
   ],
   "source": [
    "x = [1, 2, 3]\n",
    "\n",
    "base = Node(x[0])\n",
    "new_node = Node(x[1])\n",
    "base.above = new_node\n",
    "new_node_one = Node(x[2])\n",
    "new_node.above = new_node_one\n",
    "\n",
    "current = base\n",
    "while current:        # this is the same as \"while current != None\"\n",
    "    print(current.data)\n",
    "    current = current.above"
   ]
  },
  {
   "cell_type": "code",
   "execution_count": 8,
   "id": "4f63044b",
   "metadata": {},
   "outputs": [],
   "source": [
    "class Stack:\n",
    "    def __init__(self):\n",
    "        self.base = None\n",
    "        \n",
    "    def is_empty(self):\n",
    "        return self.base == None\n",
    "        \n",
    "    def push(self, item):\n",
    "        if not self.base:\n",
    "            self.base = Node(item)\n",
    "        else:\n",
    "            current = self.base\n",
    "            while current.above:   # same as \"while current.above != None\"\n",
    "                current = current.above\n",
    "            current.above = Node(item)\n",
    "            \n",
    "    def pop(self):\n",
    "        if self.base:\n",
    "            prev = None\n",
    "            current = self.base\n",
    "            while current.above:\n",
    "                prev = current\n",
    "                current = current.above\n",
    "            if not prev:\n",
    "                self.base = None\n",
    "                return current.data\n",
    "            prev.above = None\n",
    "            return current.data\n",
    "        raise IndexError(\"pop from empty stack\")\n",
    "        \n",
    "    def peek(self):\n",
    "        current = self.base\n",
    "        while current:\n",
    "            current = current.above\n",
    "        if not current:\n",
    "            raise ValueError(\"There is no base.\")\n",
    "        return current.data\n",
    "    \n",
    "    def size(self):\n",
    "        counter = 0\n",
    "        current = self.base\n",
    "        while current:\n",
    "            counter += 1\n",
    "            current = current.above\n",
    "        return counter\n",
    "        \n",
    "    \n",
    "    "
   ]
  },
  {
   "cell_type": "code",
   "execution_count": 9,
   "id": "93bc152e",
   "metadata": {},
   "outputs": [],
   "source": [
    "def reverse_check(word):\n",
    "    stack = Stack()\n",
    "    reverseWord = \"\"\n",
    "    for letter in word:\n",
    "        stack.push(letter)\n",
    "        \n",
    "        \n",
    "    while not stack.is_empty():\n",
    "        reverseWord = reverseWord + stack.pop()\n",
    "        \n",
    "    return reverseWord\n",
    "\n"
   ]
  },
  {
   "cell_type": "code",
   "execution_count": 31,
   "id": "7cdedf3d",
   "metadata": {},
   "outputs": [
    {
     "name": "stdout",
     "output_type": "stream",
     "text": [
      "odraudE\n"
     ]
    }
   ],
   "source": [
    "print(reverse_check(\"Eduardo\"))"
   ]
  },
  {
   "cell_type": "code",
   "execution_count": 10,
   "id": "d24378f3",
   "metadata": {},
   "outputs": [
    {
     "name": "stdout",
     "output_type": "stream",
     "text": [
      "olleH\n"
     ]
    }
   ],
   "source": [
    "print(reverse_check(\"Hello\"))"
   ]
  },
  {
   "cell_type": "code",
   "execution_count": null,
   "id": "5a5ae0c9",
   "metadata": {},
   "outputs": [],
   "source": []
  }
 ],
 "metadata": {
  "kernelspec": {
   "display_name": "Python 3 (ipykernel)",
   "language": "python",
   "name": "python3"
  },
  "language_info": {
   "codemirror_mode": {
    "name": "ipython",
    "version": 3
   },
   "file_extension": ".py",
   "mimetype": "text/x-python",
   "name": "python",
   "nbconvert_exporter": "python",
   "pygments_lexer": "ipython3",
   "version": "3.8.10"
  }
 },
 "nbformat": 4,
 "nbformat_minor": 5
}
