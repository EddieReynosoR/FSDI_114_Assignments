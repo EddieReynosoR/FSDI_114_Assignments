{
 "cells": [
  {
   "cell_type": "code",
   "execution_count": 1,
   "id": "fe36bdf8",
   "metadata": {},
   "outputs": [
    {
     "name": "stdout",
     "output_type": "stream",
     "text": [
      "H\n",
      "e\n",
      "l\n",
      "l\n",
      "o\n",
      ",\n",
      " \n",
      "w\n",
      "o\n",
      "r\n",
      "l\n",
      "d\n",
      "!\n"
     ]
    }
   ],
   "source": [
    "for letter in \"Hello, world!\":\n",
    "    print(letter)"
   ]
  },
  {
   "cell_type": "markdown",
   "id": "99707dae",
   "metadata": {},
   "source": [
    "# Problem 1\n",
    "\n",
    "### Given two strings as input determine if they are anagrams of each other given the following criteria:\n",
    "\n",
    "Two strings are only anagrams of each other if all conditions below are met:\n",
    "1. They must be exactly the same lenght\n",
    "2. They must use exactly the same characters.\n",
    "\n",
    "```\n",
    "Examples: \n",
    "cars and scar\n",
    "heart and earth\n",
    "etc\n",
    "```\n",
    "\n",
    "### Note: Once you've copied everything press SHIFT+ENTER\n"
   ]
  },
  {
   "cell_type": "code",
   "execution_count": 3,
   "id": "631d8d80",
   "metadata": {},
   "outputs": [],
   "source": [
    "# define function anagram_check: parameters -> (string1, string2)\n",
    "#     if the length of string1 is not equal to the length of string2:\n",
    "#          return False\n",
    "#     dict_for_s1 = dict()\n",
    "#     dict_for_s2 = dict()\n",
    "#     if the length of string1 is equal to the length of string2:\n",
    "#          for each index in the range from 0 to the length of string1:\n",
    "#               if the character at position \"index\" of string1 is in dict_for_s1:\n",
    "#                    dict_for_s1[index] = dict_for_s1[index] + 1\n",
    "#               else:\n",
    "#                    create a new key in dict_for_s1 for the character at position \"index\"\n",
    "#               if the character at position \"index\" of string2 is in dict_for_s2:\n",
    "#                    dict_for_s2[index] = dict_for_s2[index] + 1\n",
    "#               else:\n",
    "#                    create a new key in dict_for_s2 for the character at position \"index\"\n",
    "#          return dict_for_s1 == dict_for_s2"
   ]
  },
  {
   "cell_type": "code",
   "execution_count": 4,
   "id": "feacb7d6",
   "metadata": {},
   "outputs": [
    {
     "name": "stdout",
     "output_type": "stream",
     "text": [
      "65\n",
      "97\n"
     ]
    }
   ],
   "source": [
    "# what about the following example:\n",
    "# \"Tom Marvollo Riddle\" and \"I am Lord Voldemort\"\n",
    "print(ord(\"A\"))\n",
    "print(ord(\"a\"))"
   ]
  },
  {
   "cell_type": "code",
   "execution_count": 5,
   "id": "21ddb69b",
   "metadata": {},
   "outputs": [],
   "source": [
    "# Your function should return True for the example above."
   ]
  },
  {
   "cell_type": "code",
   "execution_count": 6,
   "id": "433aba72",
   "metadata": {},
   "outputs": [],
   "source": [
    "def anagram_check(s1,s2):\n",
    "    return False\n",
    "assert anagram_check(\"Eduardo\", \"odraudE\") == False"
   ]
  },
  {
   "cell_type": "code",
   "execution_count": 7,
   "id": "95d22c71",
   "metadata": {},
   "outputs": [
    {
     "data": {
      "text/plain": [
       "False"
      ]
     },
     "execution_count": 7,
     "metadata": {},
     "output_type": "execute_result"
    }
   ],
   "source": [
    "anagram_check(\"Tom Marvollo Riddle\", \"I am Lord Voldemort\")"
   ]
  },
  {
   "cell_type": "code",
   "execution_count": 68,
   "id": "ad3b280f",
   "metadata": {},
   "outputs": [
    {
     "data": {
      "text/plain": [
       "True"
      ]
     },
     "execution_count": 68,
     "metadata": {},
     "output_type": "execute_result"
    }
   ],
   "source": [
    "def anagram(string, string2):\n",
    "    \n",
    "    str1 = string.replace(\" \", \"\")\n",
    "    str2 = string2.replace(\" \", \"\")\n",
    "    \n",
    "    if len(str1)!= len(str2):\n",
    "        return False\n",
    "    else:\n",
    "        dict_for_s1 = dict()\n",
    "        dict_for_s2 = dict()\n",
    "\n",
    "        for index in range(len(str1)):\n",
    "            if str1[index].lower() in dict_for_s1:\n",
    "                dict_for_s1[index] += 1\n",
    "            else:\n",
    "                dict_for_s1[index] = 1\n",
    "            if str2[index].lower() in dict_for_s2:\n",
    "                dict_for_s2[index] += 1\n",
    "\n",
    "            else:\n",
    "                dict_for_s2[index] = 1\n",
    "        return dict_for_s1 == dict_for_s2\n",
    "        \n",
    "        \n",
    "        \n",
    "anagram(\"I am lord voldemort\",\"Tom Marvolo Riddle\")"
   ]
  },
  {
   "cell_type": "code",
   "execution_count": 71,
   "id": "00566cc2",
   "metadata": {},
   "outputs": [
    {
     "data": {
      "text/plain": [
       "True"
      ]
     },
     "execution_count": 71,
     "metadata": {},
     "output_type": "execute_result"
    }
   ],
   "source": [
    "anagram(\"cars\",\"scar\")"
   ]
  },
  {
   "cell_type": "code",
   "execution_count": null,
   "id": "7090676f",
   "metadata": {},
   "outputs": [],
   "source": []
  }
 ],
 "metadata": {
  "kernelspec": {
   "display_name": "Python 3 (ipykernel)",
   "language": "python",
   "name": "python3"
  },
  "language_info": {
   "codemirror_mode": {
    "name": "ipython",
    "version": 3
   },
   "file_extension": ".py",
   "mimetype": "text/x-python",
   "name": "python",
   "nbconvert_exporter": "python",
   "pygments_lexer": "ipython3",
   "version": "3.8.10"
  }
 },
 "nbformat": 4,
 "nbformat_minor": 5
}
