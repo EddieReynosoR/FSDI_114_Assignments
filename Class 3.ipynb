{
 "cells": [
  {
   "cell_type": "code",
   "execution_count": 50,
   "id": "16f920d2",
   "metadata": {},
   "outputs": [],
   "source": [
    "class Node:\n",
    "    def __init__(self, data):\n",
    "        self.data = data\n",
    "        self.prev = None\n",
    "        \n",
    "class Queue:\n",
    "    def __init__(self):\n",
    "        self.rear = None\n",
    "        self.front = None\n",
    "        \n",
    "    def enqueue(self, item):\n",
    "        if not self.front:    # if there is no Node instance at self.rear\n",
    "            self.front = Node(item)\n",
    "        else:\n",
    "            current = self.front\n",
    "            while current.prev:\n",
    "                current = current.prev\n",
    "            current.prev = Node(item)\n",
    "    \n",
    "    def dequeue(self):\n",
    "        if self.front:\n",
    "            current = self.front\n",
    "            node_before = self.front.prev\n",
    "            if not node_before:\n",
    "                self.front = None\n",
    "                return current.data\n",
    "            else:\n",
    "                self.front = node_before\n",
    "                return current.data\n",
    "        raise IndexError(\"Queue is empty\")\n",
    "        \n",
    "    def __str__(self):\n",
    "        out_str = \"[\"\n",
    "        if self.front:\n",
    "            current = self.front\n",
    "            out_str += \"%s\" % current.data\n",
    "            while current:     # while current is not None\n",
    "                current = current.prev\n",
    "                if current:\n",
    "                    out_str += \", %s\" % current.data\n",
    "        out_str += \"]\"\n",
    "        return out_str\n",
    "    \n",
    "\n",
    "    def is_empty(self):\n",
    "        return self.front == None\n",
    "    \n",
    "    def size(self):\n",
    "        counter = 0\n",
    "        current = self.front\n",
    "        while current:\n",
    "            counter += 1\n",
    "            current = current.prev\n",
    "        return counter\n",
    "    \n",
    "    "
   ]
  },
  {
   "cell_type": "code",
   "execution_count": 53,
   "id": "23b16bd3",
   "metadata": {},
   "outputs": [
    {
     "name": "stdout",
     "output_type": "stream",
     "text": [
      "Current queue: \n",
      "[1]\n",
      "Current queue: \n",
      "[1, 2]\n",
      "Current queue: \n",
      "[1, 2, 3]\n",
      "Current queue: \n",
      "[1, 2, 3, 4]\n",
      "Current queue: \n",
      "[1, 2, 3, 4, 5]\n",
      "Is empty:  False\n",
      "Size:  5\n",
      "Now we will dequeue: \n",
      "[2, 3, 4, 5]\n",
      "[3, 4, 5]\n",
      "[4, 5]\n",
      "[5]\n",
      "[]\n",
      "Is empty:  True\n",
      "Size:  0\n"
     ]
    }
   ],
   "source": [
    "def queue_helper(mylist=[1, 2, 3, 4, 5]):\n",
    "    queue = Queue()\n",
    "    for value in mylist:\n",
    "        queue.enqueue(value)\n",
    "        print(\"Current queue: \")\n",
    "        print(queue)\n",
    "    print(\"Is empty: \", queue.is_empty())\n",
    "    print(\"Size: \", queue.size())\n",
    "    print(\"Now we will dequeue: \")\n",
    "    while queue.front:\n",
    "        try:\n",
    "            out = queue.dequeue()\n",
    "        except IndexError as idxerr:\n",
    "            print(idxerror)\n",
    "        print(queue)\n",
    "    print(\"Is empty: \", queue.is_empty())\n",
    "    print(\"Size: \", queue.size())\n",
    "        \n",
    "queue_helper()"
   ]
  },
  {
   "cell_type": "markdown",
   "id": "6d2f75ad",
   "metadata": {},
   "source": [
    "# Linked Lists\n",
    "\n",
    "### We're going to cover:\n",
    "\n",
    "1. Singly Linked Lists\n",
    "2. Doubly Linked Lists"
   ]
  },
  {
   "cell_type": "code",
   "execution_count": 3,
   "id": "4a174aea",
   "metadata": {},
   "outputs": [
    {
     "name": "stdout",
     "output_type": "stream",
     "text": [
      "[1, 2, 3, 4, 5]\n"
     ]
    }
   ],
   "source": [
    "mylist = [1, 2, 3, 4, 5]\n",
    "\n",
    "print(mylist)"
   ]
  },
  {
   "cell_type": "markdown",
   "id": "92918abc",
   "metadata": {},
   "source": [
    "# Mini Challenge\n",
    "\n",
    "## LinkedList implementation\n",
    "\n",
    "Create a Node class with at least two attributes (data and next), Create a LinkedList class that keeps track of at least a head Node.\n",
    "\n",
    "Then add the following methods:\n",
    "\n",
    "1. Append\n",
    "2. `__str__`"
   ]
  },
  {
   "cell_type": "code",
   "execution_count": 22,
   "id": "d885913f",
   "metadata": {},
   "outputs": [
    {
     "name": "stdout",
     "output_type": "stream",
     "text": [
      "Current list: \n",
      "[1]\n",
      "Current list: \n",
      "[1, 2]\n",
      "Current list: \n",
      "[1, 2, 3]\n",
      "Current list: \n",
      "[1, 2, 3, 4]\n",
      "Current list: \n",
      "[1, 2, 3, 4, 5]\n"
     ]
    }
   ],
   "source": [
    "class Node:\n",
    "    \n",
    "    def __init__(self, data):\n",
    "        self.data = data\n",
    "        self.next = None\n",
    "    \n",
    "class LinkedList:\n",
    "    \n",
    "    def __init__(self):\n",
    "        self.head = None\n",
    "    \n",
    "    def append(self, item):\n",
    "        if not self.head:\n",
    "            self.head = Node(item)\n",
    "        else:\n",
    "            current = self.head\n",
    "            while current.next:\n",
    "                current = current.next\n",
    "            current.next = Node(item)\n",
    "    \n",
    "    \n",
    "    def __str__(self):\n",
    "        out_str = \"[\"\n",
    "        if self.head:\n",
    "            current = self.head\n",
    "            out_str += \"%s\" % current.data\n",
    "            while current:     # while current is not None\n",
    "                current = current.next\n",
    "                if current:\n",
    "                    out_str += \", %s\" % current.data\n",
    "        out_str += \"]\"\n",
    "        return out_str\n",
    "    \n",
    "\n",
    "    \n",
    "def list(mylist=[1, 2, 3, 4, 5]):\n",
    "    linklist = LinkedList()\n",
    "    for value in mylist:\n",
    "        linklist.append(value)\n",
    "        print(\"Current list: \")\n",
    "        print(linklist)\n",
    "    \n",
    "        \n",
    "list()"
   ]
  },
  {
   "cell_type": "code",
   "execution_count": null,
   "id": "6f7d75d7",
   "metadata": {},
   "outputs": [],
   "source": []
  }
 ],
 "metadata": {
  "kernelspec": {
   "display_name": "Python 3 (ipykernel)",
   "language": "python",
   "name": "python3"
  },
  "language_info": {
   "codemirror_mode": {
    "name": "ipython",
    "version": 3
   },
   "file_extension": ".py",
   "mimetype": "text/x-python",
   "name": "python",
   "nbconvert_exporter": "python",
   "pygments_lexer": "ipython3",
   "version": "3.8.10"
  }
 },
 "nbformat": 4,
 "nbformat_minor": 5
}
