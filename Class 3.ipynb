{
 "cells": [
  {
   "cell_type": "code",
   "execution_count": 2,
   "id": "16f920d2",
   "metadata": {},
   "outputs": [],
   "source": [
    "class Node:\n",
    "    def __init__(self, data):\n",
    "        self.data = data\n",
    "        self.prev = None\n",
    "        \n",
    "class Queue:\n",
    "    def __init__(self):\n",
    "        self.rear = None\n",
    "        self.front = None\n",
    "        \n",
    "    def enqueue(self, item):\n",
    "        if not self.front:    # if there is no Node instance at self.rear\n",
    "            self.front = Node(item)\n",
    "        else:\n",
    "            current = self.front\n",
    "            while current.prev:\n",
    "                current = current.prev\n",
    "            current.prev = Node(item)\n",
    "    \n",
    "    def dequeue(self):\n",
    "        if self.front:\n",
    "            current = self.front\n",
    "            node_before = self.front.prev\n",
    "            if not node_before:\n",
    "                self.front = None\n",
    "                return current.data\n",
    "            else:\n",
    "                self.front = node_before\n",
    "                return current.data\n",
    "        raise IndexError(\"Queue is empty\")\n",
    "        \n",
    "    def __str__(self):\n",
    "        out_str = \"[\"\n",
    "        if self.front:\n",
    "            current = self.front\n",
    "            out_str += \"%s\" % current.data\n",
    "            while current:     # while current is not None\n",
    "                current = current.prev\n",
    "                if current:\n",
    "                    out_str += \", %s\" % current.data\n",
    "        out_str += \"]\"\n",
    "        return out_str"
   ]
  },
  {
   "cell_type": "code",
   "execution_count": 4,
   "id": "23b16bd3",
   "metadata": {},
   "outputs": [
    {
     "name": "stdout",
     "output_type": "stream",
     "text": [
      "Current queue: \n",
      "[1]\n",
      "Current queue: \n",
      "[1, 2]\n",
      "Current queue: \n",
      "[1, 2, 3]\n",
      "Current queue: \n",
      "[1, 2, 3, 4]\n",
      "Current queue: \n",
      "[1, 2, 3, 4, 5]\n",
      "Now we will dequeue: \n",
      "[2, 3, 4, 5]\n",
      "[3, 4, 5]\n",
      "[4, 5]\n",
      "[5]\n",
      "[]\n"
     ]
    }
   ],
   "source": [
    "def queue_helper(mylist=[1, 2, 3, 4, 5]):\n",
    "    queue = Queue()\n",
    "    for value in mylist:\n",
    "        queue.enqueue(value)\n",
    "        print(\"Current queue: \")\n",
    "        print(queue)\n",
    "    print(\"Now we will dequeue: \")\n",
    "    while queue.front:\n",
    "        try:\n",
    "            out = queue.dequeue()\n",
    "        except IndexError as idxerr:\n",
    "            print(idxerror)\n",
    "        print(queue)\n",
    "        \n",
    "queue_helper()"
   ]
  },
  {
   "cell_type": "code",
   "execution_count": null,
   "id": "61990fb8",
   "metadata": {},
   "outputs": [],
   "source": []
  }
 ],
 "metadata": {
  "kernelspec": {
   "display_name": "Python 3 (ipykernel)",
   "language": "python",
   "name": "python3"
  },
  "language_info": {
   "codemirror_mode": {
    "name": "ipython",
    "version": 3
   },
   "file_extension": ".py",
   "mimetype": "text/x-python",
   "name": "python",
   "nbconvert_exporter": "python",
   "pygments_lexer": "ipython3",
   "version": "3.8.10"
  }
 },
 "nbformat": 4,
 "nbformat_minor": 5
}
